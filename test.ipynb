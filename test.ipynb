{
 "cells": [
  {
   "cell_type": "code",
   "execution_count": 1,
   "metadata": {},
   "outputs": [
    {
     "data": {
      "text/plain": [
       "'c:\\\\Users\\\\saido\\\\Downloads\\\\ResumeBot-main\\\\ResumeBot-main\\\\new_resume.docx'"
      ]
     },
     "execution_count": 1,
     "metadata": {},
     "output_type": "execute_result"
    }
   ],
   "source": [
    "import os, shutil\n",
    "\n",
    "# делаем копию документа resume.docx\n",
    "\n",
    "# 1. Получаем имя файла\n",
    "file_name = 'resume.docx'\n",
    "\n",
    "# 2. Получаем текущую директорию\n",
    "current_dir = os.getcwd()\n",
    "\n",
    "# 3. Получаем полный путь к файлу\n",
    "file_path = os.path.join(current_dir, file_name)\n",
    "\n",
    "# 4. Копируем файл\n",
    "new_file_path = os.path.join(current_dir, 'new_' + file_name)\n",
    "shutil.copy(file_path, new_file_path)\n"
   ]
  },
  {
   "cell_type": "code",
   "execution_count": 17,
   "metadata": {},
   "outputs": [
    {
     "name": "stdout",
     "output_type": "stream",
     "text": [
      "['Desired positions: ', 'Desired positions: ', 'Desired positions: ', '', 'Full name:', '/according to your travel passport/ ', 'Last and First Name', 'Last and First Name', '', 'Full name:', '/according to your travel passport/ ', 'FIO_TEST', 'FIO_TEST', '', 'Date of birth:', 'Date_of_birth_test', 'Date_of_birth_test', '', 'Place of Birth:', 'place_of_birth_test', 'place_of_birth_test', '', 'Marital status:', 'Marital_status_test', 'Marital_status_test', '', 'Marital status:', 'Marital_status_test', 'Marital_status_test', '', 'Children:', '', '', '', 'Height / Weight:', 'cm', 'kg', '', 'Height / Weight:', 'Height_test', 'weight_test', '', 'City of residence:', 'City_of_res__test', 'City_of_res__test', 'City_of_res__test', 'Current location:', 'Current_loc_test', 'Current_loc_test', 'Current_loc_test', 'Nationality:', 'Nationality_test', 'Nationality_test', 'Nationality_test', 'Citizenship:', 'citizenship_test', 'citizenship_test', 'citizenship_test', 'Do you have travel passport?', 'travepl_passport_test', 'travepl_passport_test', 'travepl_passport_test', 'Have you received COVID vaccine? \\nIf yes, please specify and send certificate', 'Covid_received_test', 'Covid_received_test', 'Covid_received_test', 'Mobile number:', '+country code /operator code/ number', 'Mobile_num_test', 'Mobile_num_test', 'Mobile_num_test', 'Messenger:', 'whatsapp /viber/ telegram', 'messsenger_test', 'messsenger_test', 'messsenger_test', 'E-mail addresses: ', 'email_test', 'email_test', 'email_test', 'Facebook page:', 'facebook_test', 'facebook_test', 'facebook_test', 'Instagram page:', 'instagram_test', 'instagram_test', 'instagram_test', 'Linkedin page:', 'linkedin_test', 'linkedin_test', 'linkedin_test', 'VKontakte page:', 'vkontakte_test', 'vkontakte_test', 'vkontakte_test', 'Relative’s contact details in case of emergency:', 'Relative’s contact details in case of emergency:', 'Relative’s contact details in case of emergency:', 'Relative’s contact details in case of emergency:', 'Name:', 'Cousin_name_test', 'Cousin_name_test', 'Cousin_name_test', 'Relationship:', 'relationship_test', 'relationship_test', 'relationship_test', 'Mobile number', '+country code /operator code/ number', 'Cousin_number_test', 'Cousin_number_test', 'Cousin_number_test', 'Father’s name:', 'Dad_name_test', 'Dad_name_test', 'Dad_name_test', 'Mother’s name:', 'Mom_name_test', 'Mom_name_test', 'Mom_name_test', 'Preferred countries to relocate and work:', 'Preferred countries to relocate and work:', 'Preferred countries to relocate and work:', 'Preferred countries to relocate and work:', 'Qatar', 'UAE', 'Bahrain', 'Oman', 'Qatar__test', 'UAE__test', 'Bahrain_test', 'Oman_test', 'Education:', 'Education:', 'Education:', 'Education:', 'Certificate / Degree', 'College/ University', 'Area of', 'Specialization', 'Years', 'started-completed', 'Degree_test', 'Univer_test', 'Specialization_test', 'years_test', '', '', '', '', 'Seminars / training attended/ Short Courses taken, and date attended:', 'Seminars / training attended/ Short Courses taken, and date attended:', 'Seminars / training attended/ Short Courses taken, and date attended:', 'Year:', 'Name:', 'Period of attending:', 'Seminar_year_test', 'seminar_test', 'Seminar_perod', '', '', '', 'Do you have any tattoos or piercing? ', '(If yes, please describe and send us photos)', 'Tattoo_test', 'Work experience', 'официальный и не официальный начиная с последнего или текущего  места работы', 'Work experience', 'официальный и не официальный начиная с последнего или текущего  места работы', 'Position:', 'Position_test', 'Company’s name, location:', 'Company_name_test', 'Date (started-left):', 'Date__test', 'Responsibilities:', 'Responsibilities_test', 'Position:', 'Other_Position_test', 'Company’s name, location:', 'Other_Company_name_test', 'Date (started-left):', 'Other_Date__test', 'Responsibilities:', 'Other_Responsibilities_test', 'Position:', 'Now_Position_test', 'Company’s name, location:', 'Now_Company_name_test', 'Date (started-left):', 'Now_Date__test', 'Responsibilities:', 'Now_Responsibilities_test', 'Computer programs you work with:', 'Please write name of computer program you worked with', 'Computer programs you work with:', 'Please write name of computer program you worked with', 'Computer programs you work with:', 'Please write name of computer program you worked with', 'Computer programs you work with:', 'Please write name of computer program you worked with', 'Computer programs you work with:', 'Please write name of computer program you worked with', 'Hospitality programs:', 'Finance programs:', 'Travel & booking programs:', 'Graphics & Design programs: ', 'Other software:', 'Hos_test', 'Finance_test', 'Travel_test', 'Design_tes', 'Oth_soft_test', 'Driver license:', 'Driver_license_test', 'Category:', 'Categoru_test', 'Languages Known:', 'Languages Known:', 'Languages Known:', 'Languages Known:', 'Languages Known:', 'Languages Known:', 'Languages Known:', 'Languages Known:', 'Language', '', 'Basic', '', '', 'Elementary', '', '', 'Lower Intermediate', '', 'Intermediate', '', 'Upper- Intermediate', '', 'Advanced', '', 'Fluent', 'Russian', 'R_b_test', 'R_e_test', 'R_l_test', 'R_i_test', 'R_u_test', 'R_a_test', 'R_f_test', 'English', 'E_b_test', 'E_e_test', 'E_l_test', 'E_i_test', 'E_u_test', 'E_a_test', 'E_f_test', 'Type additional languages:', 'Type additional languages:', 'Type additional languages:', 'Type additional languages:', 'Type additional languages:', 'Type additional languages:', 'Type additional languages:', 'Type additional languages:', 'Add_test', 'A_b_test', 'A_e_test', 'A_l_test', 'A_i_test', 'A_u_test', 'A_a_test', 'A_f_test', 'How did you know about us?', 'How did you know about us?', 'How did you know about us?', 'How did you know about us?', 'How did you know about us?', 'How did you know about us?', 'Google search', 'Facebook', 'Instagram', 'Vk.com', 'Friends recommendation ', 'Other sources of ', 'employment search ', 'Mark1_test', 'Mark2_test', 'Mark3_test', 'Mark4_test', 'Mark5_test', 'Mark5_test', 'I agree to sign a contract with the employer for at least 24 months.', 'Important information for the candidate:', 'Important information for the candidate:', 'Important information for the candidate:', 'Important information for the candidate:', '', 'Отправляя данную анкету, я даю согласие на обработку моих персональных данных. ', 'Я понимаю и согласен с тем, что агентство вправе отказать мне в прохождении интервью с тем или иным работодателем, поскольку представляет интересы последних по подбору персонала.', 'Я понимаю и согласен с тем, что агентство  может отказать мне в дальнейшем сотрудничестве в следующих случаях:', '1. Отказ от должности и компании, в которую сначала давал (а) согласие трудоустраиваться.', '2. Отказ после утверждения работодателем моей кандидатуры.', '', 'Отправляя данную анкету, я даю согласие на обработку моих персональных данных. ', 'Я понимаю и согласен с тем, что агентство вправе отказать мне в прохождении интервью с тем или иным работодателем, поскольку представляет интересы последних по подбору персонала.', 'Я понимаю и согласен с тем, что агентство  может отказать мне в дальнейшем сотрудничестве в следующих случаях:', '1. Отказ от должности и компании, в которую сначала давал (а) согласие трудоустраиваться.', '2. Отказ после утверждения работодателем моей кандидатуры.', '', 'Отправляя данную анкету, я даю согласие на обработку моих персональных данных. ', 'Я понимаю и согласен с тем, что агентство вправе отказать мне в прохождении интервью с тем или иным работодателем, поскольку представляет интересы последних по подбору персонала.', 'Я понимаю и согласен с тем, что агентство  может отказать мне в дальнейшем сотрудничестве в следующих случаях:', '1. Отказ от должности и компании, в которую сначала давал (а) согласие трудоустраиваться.', '2. Отказ после утверждения работодателем моей кандидатуры.', '', 'Отправляя данную анкету, я даю согласие на обработку моих персональных данных. ', 'Я понимаю и согласен с тем, что агентство вправе отказать мне в прохождении интервью с тем или иным работодателем, поскольку представляет интересы последних по подбору персонала.', 'Я понимаю и согласен с тем, что агентство  может отказать мне в дальнейшем сотрудничестве в следующих случаях:', '1. Отказ от должности и компании, в которую сначала давал (а) согласие трудоустраиваться.', '2. Отказ после утверждения работодателем моей кандидатуры.', '', '', '', '', 'I confirm that all information given on this resume is true.', 'I confirm that all information given on this resume is true.', 'I confirm that all information given on this resume is true.', 'I confirm that all information given on this resume is true.', 'Please type first and last name ', ' ', 'Date:', 'Date_test']\n"
     ]
    }
   ],
   "source": [
    "from docx import Document\n",
    "\n",
    "# Открываем документ .docx\n",
    "doc = Document(\"C:\\\\Users\\\\saido\\\\Downloads\\\\ResumeBot-main\\\\ResumeBot-main\\\\new_resume.docx\")\n",
    "\n",
    "# Получаем весь текст с таблицы\n",
    "table_text = []\n",
    "for table in doc.tables:\n",
    "    for row in table.rows:\n",
    "        for cell in row.cells:\n",
    "            for paragraph in cell.paragraphs:\n",
    "                table_text.append(paragraph.text)\n",
    "\n",
    "# Принтуем весь текст с таблицы\n",
    "print(table_text)\n",
    "\n",
    "# Заменяем содержимое таблицы. Создаем функцию, которая заменять old_text на new_text с сохранеием шрифта, цвета текста и других параметров\n",
    "\n",
    "def replace_text(old_text, new_text):\n",
    "    for table in doc.tables:\n",
    "        for row in table.rows:\n",
    "            for cell in row.cells:\n",
    "                for paragraph in cell.paragraphs:\n",
    "                    if old_text in paragraph.text:\n",
    "                        inline = paragraph.runs\n",
    "                        for i in range(len(inline)):\n",
    "                            if old_text in inline[i].text:\n",
    "                                text = inline[i].text.replace(old_text, new_text)\n",
    "                                inline[i].text = text\n",
    "                                \n",
    "                                \n",
    "replace_text('FIO_TEST', 'Saidorif')\n",
    "# Сохраняем документ\n",
    "doc.save('C:\\\\Users\\\\saido\\\\Downloads\\\\ResumeBot-main\\\\ResumeBot-main\\\\modified_resume.docx')"
   ]
  }
 ],
 "metadata": {
  "kernelspec": {
   "display_name": "Python 3",
   "language": "python",
   "name": "python3"
  },
  "language_info": {
   "codemirror_mode": {
    "name": "ipython",
    "version": 3
   },
   "file_extension": ".py",
   "mimetype": "text/x-python",
   "name": "python",
   "nbconvert_exporter": "python",
   "pygments_lexer": "ipython3",
   "version": "3.10.7"
  },
  "orig_nbformat": 4
 },
 "nbformat": 4,
 "nbformat_minor": 2
}
